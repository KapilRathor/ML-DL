{
 "cells": [
  {
   "cell_type": "code",
   "execution_count": 56,
   "metadata": {},
   "outputs": [],
   "source": [
    "import numpy as np\n",
    "import pandas as pd\n",
    "import matplotlib.pyplot as plt\n",
    "import seaborn as sns\n",
    "from sklearn.preprocessing import MinMaxScaler,LabelEncoder,PolynomialFeatures\n",
    "from sklearn.ensemble import RandomForestClassifier,RandomForestRegressor,GradientBoostingRegressor\n",
    "from sklearn.model_selection import train_test_split,learning_curve,ShuffleSplit,cross_val_score,KFold,GridSearchCV\n",
    "from sklearn import metrics\n",
    "from sklearn.metrics import classification_report, confusion_matrix\n",
    "from sklearn import linear_model\n",
    "from sklearn.preprocessing import PolynomialFeatures\n",
    "from sklearn import neighbors\n",
    "from sklearn.svm import SVR "
   ]
  },
  {
   "cell_type": "code",
   "execution_count": 57,
   "metadata": {},
   "outputs": [],
   "source": [
    "data = pd.read_csv('crop_yield.csv')"
   ]
  },
  {
   "cell_type": "code",
   "execution_count": 58,
   "metadata": {},
   "outputs": [
    {
     "data": {
      "text/html": [
       "<div>\n",
       "<style scoped>\n",
       "    .dataframe tbody tr th:only-of-type {\n",
       "        vertical-align: middle;\n",
       "    }\n",
       "\n",
       "    .dataframe tbody tr th {\n",
       "        vertical-align: top;\n",
       "    }\n",
       "\n",
       "    .dataframe thead th {\n",
       "        text-align: right;\n",
       "    }\n",
       "</style>\n",
       "<table border=\"1\" class=\"dataframe\">\n",
       "  <thead>\n",
       "    <tr style=\"text-align: right;\">\n",
       "      <th></th>\n",
       "      <th>Temperature</th>\n",
       "      <th>Rainfall</th>\n",
       "      <th>Humidity</th>\n",
       "      <th>Prediction</th>\n",
       "      <th>Crop</th>\n",
       "      <th>Yield</th>\n",
       "    </tr>\n",
       "  </thead>\n",
       "  <tbody>\n",
       "    <tr>\n",
       "      <th>0</th>\n",
       "      <td>29.02</td>\n",
       "      <td>161</td>\n",
       "      <td>78</td>\n",
       "      <td>0.691</td>\n",
       "      <td>Aus</td>\n",
       "      <td>35.7</td>\n",
       "    </tr>\n",
       "    <tr>\n",
       "      <th>1</th>\n",
       "      <td>29.42</td>\n",
       "      <td>130</td>\n",
       "      <td>77</td>\n",
       "      <td>0.806</td>\n",
       "      <td>Aus</td>\n",
       "      <td>35.7</td>\n",
       "    </tr>\n",
       "    <tr>\n",
       "      <th>2</th>\n",
       "      <td>30.00</td>\n",
       "      <td>90</td>\n",
       "      <td>76</td>\n",
       "      <td>0.814</td>\n",
       "      <td>Aus</td>\n",
       "      <td>35.7</td>\n",
       "    </tr>\n",
       "    <tr>\n",
       "      <th>3</th>\n",
       "      <td>29.45</td>\n",
       "      <td>142</td>\n",
       "      <td>76</td>\n",
       "      <td>1.043</td>\n",
       "      <td>Aus</td>\n",
       "      <td>35.7</td>\n",
       "    </tr>\n",
       "    <tr>\n",
       "      <th>4</th>\n",
       "      <td>29.05</td>\n",
       "      <td>132</td>\n",
       "      <td>76</td>\n",
       "      <td>0.930</td>\n",
       "      <td>Aus</td>\n",
       "      <td>35.7</td>\n",
       "    </tr>\n",
       "  </tbody>\n",
       "</table>\n",
       "</div>"
      ],
      "text/plain": [
       "   Temperature  Rainfall  Humidity  Prediction Crop  Yield\n",
       "0        29.02       161        78       0.691  Aus   35.7\n",
       "1        29.42       130        77       0.806  Aus   35.7\n",
       "2        30.00        90        76       0.814  Aus   35.7\n",
       "3        29.45       142        76       1.043  Aus   35.7\n",
       "4        29.05       132        76       0.930  Aus   35.7"
      ]
     },
     "execution_count": 58,
     "metadata": {},
     "output_type": "execute_result"
    }
   ],
   "source": [
    "data.head()"
   ]
  },
  {
   "cell_type": "code",
   "execution_count": 59,
   "metadata": {},
   "outputs": [
    {
     "name": "stdout",
     "output_type": "stream",
     "text": [
      "<class 'pandas.core.frame.DataFrame'>\n",
      "RangeIndex: 60 entries, 0 to 59\n",
      "Data columns (total 6 columns):\n",
      "Temperature    60 non-null float64\n",
      "Rainfall       60 non-null int64\n",
      "Humidity       60 non-null int64\n",
      "Prediction     60 non-null float64\n",
      "Crop           60 non-null object\n",
      "Yield          60 non-null float64\n",
      "dtypes: float64(3), int64(2), object(1)\n",
      "memory usage: 2.9+ KB\n"
     ]
    }
   ],
   "source": [
    "data.info()"
   ]
  },
  {
   "cell_type": "code",
   "execution_count": 60,
   "metadata": {},
   "outputs": [
    {
     "data": {
      "text/plain": [
       "Temperature    0\n",
       "Rainfall       0\n",
       "Humidity       0\n",
       "Prediction     0\n",
       "Crop           0\n",
       "Yield          0\n",
       "dtype: int64"
      ]
     },
     "execution_count": 60,
     "metadata": {},
     "output_type": "execute_result"
    }
   ],
   "source": [
    "data.isnull().sum()"
   ]
  },
  {
   "cell_type": "code",
   "execution_count": 61,
   "metadata": {},
   "outputs": [
    {
     "data": {
      "text/html": [
       "<div>\n",
       "<style scoped>\n",
       "    .dataframe tbody tr th:only-of-type {\n",
       "        vertical-align: middle;\n",
       "    }\n",
       "\n",
       "    .dataframe tbody tr th {\n",
       "        vertical-align: top;\n",
       "    }\n",
       "\n",
       "    .dataframe thead th {\n",
       "        text-align: right;\n",
       "    }\n",
       "</style>\n",
       "<table border=\"1\" class=\"dataframe\">\n",
       "  <thead>\n",
       "    <tr style=\"text-align: right;\">\n",
       "      <th></th>\n",
       "      <th>Temperature</th>\n",
       "      <th>Rainfall</th>\n",
       "      <th>Humidity</th>\n",
       "      <th>Prediction</th>\n",
       "      <th>Yield</th>\n",
       "    </tr>\n",
       "  </thead>\n",
       "  <tbody>\n",
       "    <tr>\n",
       "      <th>count</th>\n",
       "      <td>60.000000</td>\n",
       "      <td>60.000000</td>\n",
       "      <td>60.000000</td>\n",
       "      <td>60.000000</td>\n",
       "      <td>60.000000</td>\n",
       "    </tr>\n",
       "    <tr>\n",
       "      <th>mean</th>\n",
       "      <td>25.229167</td>\n",
       "      <td>97.966667</td>\n",
       "      <td>78.683333</td>\n",
       "      <td>3.020133</td>\n",
       "      <td>51.166667</td>\n",
       "    </tr>\n",
       "    <tr>\n",
       "      <th>std</th>\n",
       "      <td>4.256946</td>\n",
       "      <td>109.063031</td>\n",
       "      <td>3.422219</td>\n",
       "      <td>2.905228</td>\n",
       "      <td>24.008732</td>\n",
       "    </tr>\n",
       "    <tr>\n",
       "      <th>min</th>\n",
       "      <td>20.360000</td>\n",
       "      <td>1.000000</td>\n",
       "      <td>72.000000</td>\n",
       "      <td>0.679000</td>\n",
       "      <td>17.500000</td>\n",
       "    </tr>\n",
       "    <tr>\n",
       "      <th>25%</th>\n",
       "      <td>20.857500</td>\n",
       "      <td>11.250000</td>\n",
       "      <td>77.000000</td>\n",
       "      <td>0.958750</td>\n",
       "      <td>35.700000</td>\n",
       "    </tr>\n",
       "    <tr>\n",
       "      <th>50%</th>\n",
       "      <td>25.510000</td>\n",
       "      <td>70.000000</td>\n",
       "      <td>78.000000</td>\n",
       "      <td>1.308000</td>\n",
       "      <td>47.050000</td>\n",
       "    </tr>\n",
       "    <tr>\n",
       "      <th>75%</th>\n",
       "      <td>29.227500</td>\n",
       "      <td>132.000000</td>\n",
       "      <td>80.000000</td>\n",
       "      <td>5.510000</td>\n",
       "      <td>71.400000</td>\n",
       "    </tr>\n",
       "    <tr>\n",
       "      <th>max</th>\n",
       "      <td>30.470000</td>\n",
       "      <td>479.000000</td>\n",
       "      <td>86.000000</td>\n",
       "      <td>10.088000</td>\n",
       "      <td>88.300000</td>\n",
       "    </tr>\n",
       "  </tbody>\n",
       "</table>\n",
       "</div>"
      ],
      "text/plain": [
       "       Temperature    Rainfall   Humidity  Prediction      Yield\n",
       "count    60.000000   60.000000  60.000000   60.000000  60.000000\n",
       "mean     25.229167   97.966667  78.683333    3.020133  51.166667\n",
       "std       4.256946  109.063031   3.422219    2.905228  24.008732\n",
       "min      20.360000    1.000000  72.000000    0.679000  17.500000\n",
       "25%      20.857500   11.250000  77.000000    0.958750  35.700000\n",
       "50%      25.510000   70.000000  78.000000    1.308000  47.050000\n",
       "75%      29.227500  132.000000  80.000000    5.510000  71.400000\n",
       "max      30.470000  479.000000  86.000000   10.088000  88.300000"
      ]
     },
     "execution_count": 61,
     "metadata": {},
     "output_type": "execute_result"
    }
   ],
   "source": [
    "data.describe()"
   ]
  },
  {
   "cell_type": "code",
   "execution_count": 62,
   "metadata": {},
   "outputs": [
    {
     "data": {
      "text/html": [
       "<div>\n",
       "<style scoped>\n",
       "    .dataframe tbody tr th:only-of-type {\n",
       "        vertical-align: middle;\n",
       "    }\n",
       "\n",
       "    .dataframe tbody tr th {\n",
       "        vertical-align: top;\n",
       "    }\n",
       "\n",
       "    .dataframe thead th {\n",
       "        text-align: right;\n",
       "    }\n",
       "</style>\n",
       "<table border=\"1\" class=\"dataframe\">\n",
       "  <thead>\n",
       "    <tr style=\"text-align: right;\">\n",
       "      <th></th>\n",
       "      <th>Temperature</th>\n",
       "      <th>Rainfall</th>\n",
       "      <th>Humidity</th>\n",
       "      <th>Prediction</th>\n",
       "      <th>Yield</th>\n",
       "    </tr>\n",
       "  </thead>\n",
       "  <tbody>\n",
       "    <tr>\n",
       "      <th>Temperature</th>\n",
       "      <td>1.000000</td>\n",
       "      <td>0.736964</td>\n",
       "      <td>-0.050174</td>\n",
       "      <td>-0.198074</td>\n",
       "      <td>-0.337564</td>\n",
       "    </tr>\n",
       "    <tr>\n",
       "      <th>Rainfall</th>\n",
       "      <td>0.736964</td>\n",
       "      <td>1.000000</td>\n",
       "      <td>0.549719</td>\n",
       "      <td>-0.292852</td>\n",
       "      <td>-0.097176</td>\n",
       "    </tr>\n",
       "    <tr>\n",
       "      <th>Humidity</th>\n",
       "      <td>-0.050174</td>\n",
       "      <td>0.549719</td>\n",
       "      <td>1.000000</td>\n",
       "      <td>-0.216558</td>\n",
       "      <td>0.266062</td>\n",
       "    </tr>\n",
       "    <tr>\n",
       "      <th>Prediction</th>\n",
       "      <td>-0.198074</td>\n",
       "      <td>-0.292852</td>\n",
       "      <td>-0.216558</td>\n",
       "      <td>1.000000</td>\n",
       "      <td>0.160262</td>\n",
       "    </tr>\n",
       "    <tr>\n",
       "      <th>Yield</th>\n",
       "      <td>-0.337564</td>\n",
       "      <td>-0.097176</td>\n",
       "      <td>0.266062</td>\n",
       "      <td>0.160262</td>\n",
       "      <td>1.000000</td>\n",
       "    </tr>\n",
       "  </tbody>\n",
       "</table>\n",
       "</div>"
      ],
      "text/plain": [
       "             Temperature  Rainfall  Humidity  Prediction     Yield\n",
       "Temperature     1.000000  0.736964 -0.050174   -0.198074 -0.337564\n",
       "Rainfall        0.736964  1.000000  0.549719   -0.292852 -0.097176\n",
       "Humidity       -0.050174  0.549719  1.000000   -0.216558  0.266062\n",
       "Prediction     -0.198074 -0.292852 -0.216558    1.000000  0.160262\n",
       "Yield          -0.337564 -0.097176  0.266062    0.160262  1.000000"
      ]
     },
     "execution_count": 62,
     "metadata": {},
     "output_type": "execute_result"
    }
   ],
   "source": [
    "data.corr()"
   ]
  },
  {
   "cell_type": "code",
   "execution_count": 63,
   "metadata": {},
   "outputs": [],
   "source": [
    "le=LabelEncoder()\n",
    "data['Crop']=le.fit_transform(data['Crop'])"
   ]
  },
  {
   "cell_type": "code",
   "execution_count": 64,
   "metadata": {},
   "outputs": [
    {
     "data": {
      "text/html": [
       "<div>\n",
       "<style scoped>\n",
       "    .dataframe tbody tr th:only-of-type {\n",
       "        vertical-align: middle;\n",
       "    }\n",
       "\n",
       "    .dataframe tbody tr th {\n",
       "        vertical-align: top;\n",
       "    }\n",
       "\n",
       "    .dataframe thead th {\n",
       "        text-align: right;\n",
       "    }\n",
       "</style>\n",
       "<table border=\"1\" class=\"dataframe\">\n",
       "  <thead>\n",
       "    <tr style=\"text-align: right;\">\n",
       "      <th></th>\n",
       "      <th>Temperature</th>\n",
       "      <th>Rainfall</th>\n",
       "      <th>Humidity</th>\n",
       "      <th>Prediction</th>\n",
       "      <th>Crop</th>\n",
       "      <th>Yield</th>\n",
       "    </tr>\n",
       "  </thead>\n",
       "  <tbody>\n",
       "    <tr>\n",
       "      <th>0</th>\n",
       "      <td>29.02</td>\n",
       "      <td>161</td>\n",
       "      <td>78</td>\n",
       "      <td>0.691</td>\n",
       "      <td>1</td>\n",
       "      <td>35.7</td>\n",
       "    </tr>\n",
       "    <tr>\n",
       "      <th>1</th>\n",
       "      <td>29.42</td>\n",
       "      <td>130</td>\n",
       "      <td>77</td>\n",
       "      <td>0.806</td>\n",
       "      <td>1</td>\n",
       "      <td>35.7</td>\n",
       "    </tr>\n",
       "    <tr>\n",
       "      <th>2</th>\n",
       "      <td>30.00</td>\n",
       "      <td>90</td>\n",
       "      <td>76</td>\n",
       "      <td>0.814</td>\n",
       "      <td>1</td>\n",
       "      <td>35.7</td>\n",
       "    </tr>\n",
       "    <tr>\n",
       "      <th>3</th>\n",
       "      <td>29.45</td>\n",
       "      <td>142</td>\n",
       "      <td>76</td>\n",
       "      <td>1.043</td>\n",
       "      <td>1</td>\n",
       "      <td>35.7</td>\n",
       "    </tr>\n",
       "    <tr>\n",
       "      <th>4</th>\n",
       "      <td>29.05</td>\n",
       "      <td>132</td>\n",
       "      <td>76</td>\n",
       "      <td>0.930</td>\n",
       "      <td>1</td>\n",
       "      <td>35.7</td>\n",
       "    </tr>\n",
       "  </tbody>\n",
       "</table>\n",
       "</div>"
      ],
      "text/plain": [
       "   Temperature  Rainfall  Humidity  Prediction  Crop  Yield\n",
       "0        29.02       161        78       0.691     1   35.7\n",
       "1        29.42       130        77       0.806     1   35.7\n",
       "2        30.00        90        76       0.814     1   35.7\n",
       "3        29.45       142        76       1.043     1   35.7\n",
       "4        29.05       132        76       0.930     1   35.7"
      ]
     },
     "execution_count": 64,
     "metadata": {},
     "output_type": "execute_result"
    }
   ],
   "source": [
    "data.head()"
   ]
  },
  {
   "cell_type": "code",
   "execution_count": 65,
   "metadata": {},
   "outputs": [
    {
     "data": {
      "text/html": [
       "<div>\n",
       "<style scoped>\n",
       "    .dataframe tbody tr th:only-of-type {\n",
       "        vertical-align: middle;\n",
       "    }\n",
       "\n",
       "    .dataframe tbody tr th {\n",
       "        vertical-align: top;\n",
       "    }\n",
       "\n",
       "    .dataframe thead th {\n",
       "        text-align: right;\n",
       "    }\n",
       "</style>\n",
       "<table border=\"1\" class=\"dataframe\">\n",
       "  <thead>\n",
       "    <tr style=\"text-align: right;\">\n",
       "      <th></th>\n",
       "      <th>Temperature</th>\n",
       "      <th>Rainfall</th>\n",
       "      <th>Humidity</th>\n",
       "      <th>Prediction</th>\n",
       "      <th>Crop</th>\n",
       "      <th>Yield</th>\n",
       "    </tr>\n",
       "  </thead>\n",
       "  <tbody>\n",
       "    <tr>\n",
       "      <th>count</th>\n",
       "      <td>60.000000</td>\n",
       "      <td>60.000000</td>\n",
       "      <td>60.000000</td>\n",
       "      <td>60.000000</td>\n",
       "      <td>60.000000</td>\n",
       "      <td>60.000000</td>\n",
       "    </tr>\n",
       "    <tr>\n",
       "      <th>mean</th>\n",
       "      <td>25.229167</td>\n",
       "      <td>97.966667</td>\n",
       "      <td>78.683333</td>\n",
       "      <td>3.020133</td>\n",
       "      <td>2.500000</td>\n",
       "      <td>51.166667</td>\n",
       "    </tr>\n",
       "    <tr>\n",
       "      <th>std</th>\n",
       "      <td>4.256946</td>\n",
       "      <td>109.063031</td>\n",
       "      <td>3.422219</td>\n",
       "      <td>2.905228</td>\n",
       "      <td>1.722237</td>\n",
       "      <td>24.008732</td>\n",
       "    </tr>\n",
       "    <tr>\n",
       "      <th>min</th>\n",
       "      <td>20.360000</td>\n",
       "      <td>1.000000</td>\n",
       "      <td>72.000000</td>\n",
       "      <td>0.679000</td>\n",
       "      <td>0.000000</td>\n",
       "      <td>17.500000</td>\n",
       "    </tr>\n",
       "    <tr>\n",
       "      <th>25%</th>\n",
       "      <td>20.857500</td>\n",
       "      <td>11.250000</td>\n",
       "      <td>77.000000</td>\n",
       "      <td>0.958750</td>\n",
       "      <td>1.000000</td>\n",
       "      <td>35.700000</td>\n",
       "    </tr>\n",
       "    <tr>\n",
       "      <th>50%</th>\n",
       "      <td>25.510000</td>\n",
       "      <td>70.000000</td>\n",
       "      <td>78.000000</td>\n",
       "      <td>1.308000</td>\n",
       "      <td>2.500000</td>\n",
       "      <td>47.050000</td>\n",
       "    </tr>\n",
       "    <tr>\n",
       "      <th>75%</th>\n",
       "      <td>29.227500</td>\n",
       "      <td>132.000000</td>\n",
       "      <td>80.000000</td>\n",
       "      <td>5.510000</td>\n",
       "      <td>4.000000</td>\n",
       "      <td>71.400000</td>\n",
       "    </tr>\n",
       "    <tr>\n",
       "      <th>max</th>\n",
       "      <td>30.470000</td>\n",
       "      <td>479.000000</td>\n",
       "      <td>86.000000</td>\n",
       "      <td>10.088000</td>\n",
       "      <td>5.000000</td>\n",
       "      <td>88.300000</td>\n",
       "    </tr>\n",
       "  </tbody>\n",
       "</table>\n",
       "</div>"
      ],
      "text/plain": [
       "       Temperature    Rainfall   Humidity  Prediction       Crop      Yield\n",
       "count    60.000000   60.000000  60.000000   60.000000  60.000000  60.000000\n",
       "mean     25.229167   97.966667  78.683333    3.020133   2.500000  51.166667\n",
       "std       4.256946  109.063031   3.422219    2.905228   1.722237  24.008732\n",
       "min      20.360000    1.000000  72.000000    0.679000   0.000000  17.500000\n",
       "25%      20.857500   11.250000  77.000000    0.958750   1.000000  35.700000\n",
       "50%      25.510000   70.000000  78.000000    1.308000   2.500000  47.050000\n",
       "75%      29.227500  132.000000  80.000000    5.510000   4.000000  71.400000\n",
       "max      30.470000  479.000000  86.000000   10.088000   5.000000  88.300000"
      ]
     },
     "execution_count": 65,
     "metadata": {},
     "output_type": "execute_result"
    }
   ],
   "source": [
    "data.describe()"
   ]
  },
  {
   "cell_type": "code",
   "execution_count": 66,
   "metadata": {},
   "outputs": [],
   "source": [
    "y = data['Yield'].values\n",
    "x = data.drop(columns = ['Yield'])"
   ]
  },
  {
   "cell_type": "code",
   "execution_count": 67,
   "metadata": {},
   "outputs": [],
   "source": [
    "x_train, x_test, y_train, y_test = train_test_split(x, y, test_size=0.2, random_state=99)"
   ]
  },
  {
   "cell_type": "code",
   "execution_count": 68,
   "metadata": {},
   "outputs": [],
   "source": [
    "cv_k = 5\n",
    "cv_scoring = 'neg_mean_squared_error'\n",
    "cv_scoring = 'r2'"
   ]
  },
  {
   "cell_type": "code",
   "execution_count": 69,
   "metadata": {},
   "outputs": [],
   "source": [
    "kf = KFold(n_splits=cv_k, shuffle=True)"
   ]
  },
  {
   "cell_type": "code",
   "execution_count": 70,
   "metadata": {},
   "outputs": [
    {
     "name": "stdout",
     "output_type": "stream",
     "text": [
      "Accuracy: 0.52 (+/- 0.47)\n"
     ]
    }
   ],
   "source": [
    "# Linear regression\n",
    "est = linear_model.LinearRegression()\n",
    "scores = cross_val_score(est, x_train, y_train, cv=kf, scoring=cv_scoring)\n",
    "print(\"Accuracy: %0.2f (+/- %0.2f)\" % (scores.mean(), scores.std() * 2))"
   ]
  },
  {
   "cell_type": "code",
   "execution_count": 71,
   "metadata": {},
   "outputs": [
    {
     "name": "stdout",
     "output_type": "stream",
     "text": [
      "Accuracy: 0.56 (+/- 0.47)\n"
     ]
    }
   ],
   "source": [
    "# Linear regression with L2 regularization\n",
    "est = linear_model.Ridge(alpha = 1.0)\n",
    "scores = cross_val_score(est, x_train, y_train, cv=kf, scoring=cv_scoring)\n",
    "print(\"Accuracy: %0.2f (+/- %0.2f)\" % (scores.mean(), scores.std() * 2))"
   ]
  },
  {
   "cell_type": "code",
   "execution_count": 72,
   "metadata": {},
   "outputs": [
    {
     "name": "stdout",
     "output_type": "stream",
     "text": [
      "Accuracy: 0.99 (+/- 0.02)\n"
     ]
    }
   ],
   "source": [
    "# Polynomial regression\n",
    "poly = PolynomialFeatures(degree=2)\n",
    "x_train_poly = poly.fit_transform(x_train)\n",
    "est = linear_model.LinearRegression()\n",
    "scores = cross_val_score(est, x_train_poly, y_train, cv=kf, scoring=cv_scoring)\n",
    "print(\"Accuracy: %0.2f (+/- %0.2f)\" % (scores.mean(), scores.std() * 2))"
   ]
  },
  {
   "cell_type": "code",
   "execution_count": 73,
   "metadata": {},
   "outputs": [
    {
     "name": "stdout",
     "output_type": "stream",
     "text": [
      "Accuracy: 0.99 (+/- 0.03)\n"
     ]
    }
   ],
   "source": [
    "# Polynomial regression with regularization\n",
    "poly = PolynomialFeatures(degree=2)\n",
    "x_train_poly = poly.fit_transform(x_train)\n",
    "est = linear_model.Ridge(alpha = 1.0)\n",
    "scores = cross_val_score(est, x_train_poly, y_train, cv=kf, scoring=cv_scoring)\n",
    "print(\"Accuracy: %0.2f (+/- %0.2f)\" % (scores.mean(), scores.std() * 2))"
   ]
  },
  {
   "cell_type": "code",
   "execution_count": 74,
   "metadata": {},
   "outputs": [
    {
     "name": "stdout",
     "output_type": "stream",
     "text": [
      "Accuracy: 0.9978 (+/- 0.0062)\n"
     ]
    }
   ],
   "source": [
    "# Random forest regression\n",
    "est = RandomForestRegressor(n_estimators=10, n_jobs=-1)\n",
    "scores = cross_val_score(est, x_train, y_train, cv=kf, scoring=cv_scoring)\n",
    "print(\"Accuracy: %0.4f (+/- %0.4f)\" % (scores.mean(), scores.std() * 2))"
   ]
  },
  {
   "cell_type": "code",
   "execution_count": 75,
   "metadata": {},
   "outputs": [
    {
     "name": "stdout",
     "output_type": "stream",
     "text": [
      "Accuracy: -0.0084 (+/- 0.0176)\n"
     ]
    }
   ],
   "source": [
    "# Gradient boosted regression\n",
    "est = GradientBoostingRegressor(n_estimators=100, learning_rate=0.1,\n",
    "                                max_depth=0.3, random_state=0, loss='ls')\n",
    "scores = cross_val_score(est, x_train, y_train, cv=kf, scoring=cv_scoring)\n",
    "print(\"Accuracy: %0.4f (+/- %0.4f)\" % (scores.mean(), scores.std() * 2))"
   ]
  },
  {
   "cell_type": "code",
   "execution_count": 76,
   "metadata": {},
   "outputs": [
    {
     "name": "stdout",
     "output_type": "stream",
     "text": [
      "Accuracy: -0.18 (+/- 0.67)\n"
     ]
    }
   ],
   "source": [
    "# Nearest neighbor regression\n",
    "n_neighbors = 5\n",
    "weight = 'uniform' # 'distance'\n",
    "est = neighbors.KNeighborsRegressor(n_neighbors, weights=weight, n_jobs=-1)\n",
    "scores = cross_val_score(est, x_train, y_train, cv=kf, scoring=cv_scoring)\n",
    "print(\"Accuracy: %0.2f (+/- %0.2f)\" % (scores.mean(), scores.std() * 2))"
   ]
  },
  {
   "cell_type": "code",
   "execution_count": 77,
   "metadata": {},
   "outputs": [
    {
     "name": "stdout",
     "output_type": "stream",
     "text": [
      "Accuracy: 0.36 (+/- 0.60)\n"
     ]
    }
   ],
   "source": [
    "# Support vector regression - linear kernel\n",
    "est = SVR(kernel='linear', C=1)\n",
    "scores = cross_val_score(est, x_train, y_train, cv=kf, scoring=cv_scoring)\n",
    "print(\"Accuracy: %0.2f (+/- %0.2f)\" % (scores.mean(), scores.std() * 2))"
   ]
  },
  {
   "cell_type": "code",
   "execution_count": 78,
   "metadata": {},
   "outputs": [
    {
     "name": "stdout",
     "output_type": "stream",
     "text": [
      "Accuracy: -0.45 (+/- 0.65)\n"
     ]
    }
   ],
   "source": [
    "# Support vector regression - RBF kernel\n",
    "est = SVR(kernel='rbf', C=1, gamma=0.1)\n",
    "scores = cross_val_score(est, x_train, y_train, cv=kf, scoring=cv_scoring)\n",
    "print(\"Accuracy: %0.2f (+/- %0.2f)\" % (scores.mean(), scores.std() * 2))"
   ]
  },
  {
   "cell_type": "code",
   "execution_count": 79,
   "metadata": {},
   "outputs": [],
   "source": [
    "## Support vector regression - polynomial kernel\n",
    "## This takes much longer than the previous two SVR methods.\n",
    "#est = SVR(kernel='poly', C=1e3, degree=2)\n",
    "#scores = cross_val_score(est, x_train, y_train, cv=kf, scoring=cv_scoring)\n",
    "#print(\"Accuracy: %0.2f (+/- %0.2f)\" % (scores.mean(), scores.std() * 2))"
   ]
  },
  {
   "cell_type": "code",
   "execution_count": 80,
   "metadata": {},
   "outputs": [
    {
     "name": "stderr",
     "output_type": "stream",
     "text": [
      "C:\\Users\\Asus\\Anaconda3\\lib\\site-packages\\sklearn\\model_selection\\_search.py:841: DeprecationWarning: The default of the `iid` parameter will change from True to False in version 0.22 and will be removed in 0.24. This will change numeric results when test-set sizes are unequal.\n",
      "  DeprecationWarning)\n"
     ]
    },
    {
     "name": "stdout",
     "output_type": "stream",
     "text": [
      "0.531 (+/-0.112) for {'max_features': 'auto', 'min_samples_leaf': 10, 'min_samples_split': 2, 'n_estimators': 10}\n",
      "0.539 (+/-0.138) for {'max_features': 'auto', 'min_samples_leaf': 10, 'min_samples_split': 2, 'n_estimators': 100}\n",
      "0.549 (+/-0.118) for {'max_features': 'auto', 'min_samples_leaf': 10, 'min_samples_split': 2, 'n_estimators': 1000}\n",
      "0.531 (+/-0.112) for {'max_features': 'auto', 'min_samples_leaf': 10, 'min_samples_split': 5, 'n_estimators': 10}\n",
      "0.539 (+/-0.138) for {'max_features': 'auto', 'min_samples_leaf': 10, 'min_samples_split': 5, 'n_estimators': 100}\n",
      "0.549 (+/-0.118) for {'max_features': 'auto', 'min_samples_leaf': 10, 'min_samples_split': 5, 'n_estimators': 1000}\n",
      "0.531 (+/-0.112) for {'max_features': 'auto', 'min_samples_leaf': 10, 'min_samples_split': 10, 'n_estimators': 10}\n",
      "0.539 (+/-0.138) for {'max_features': 'auto', 'min_samples_leaf': 10, 'min_samples_split': 10, 'n_estimators': 100}\n",
      "0.549 (+/-0.118) for {'max_features': 'auto', 'min_samples_leaf': 10, 'min_samples_split': 10, 'n_estimators': 1000}\n",
      "0.531 (+/-0.112) for {'max_features': 'auto', 'min_samples_leaf': 10, 'min_samples_split': 20, 'n_estimators': 10}\n",
      "0.539 (+/-0.138) for {'max_features': 'auto', 'min_samples_leaf': 10, 'min_samples_split': 20, 'n_estimators': 100}\n",
      "0.549 (+/-0.118) for {'max_features': 'auto', 'min_samples_leaf': 10, 'min_samples_split': 20, 'n_estimators': 1000}\n",
      "-0.141 (+/-0.250) for {'max_features': 'auto', 'min_samples_leaf': 20, 'min_samples_split': 2, 'n_estimators': 10}\n",
      "-0.180 (+/-0.305) for {'max_features': 'auto', 'min_samples_leaf': 20, 'min_samples_split': 2, 'n_estimators': 100}\n",
      "-0.178 (+/-0.309) for {'max_features': 'auto', 'min_samples_leaf': 20, 'min_samples_split': 2, 'n_estimators': 1000}\n",
      "-0.141 (+/-0.250) for {'max_features': 'auto', 'min_samples_leaf': 20, 'min_samples_split': 5, 'n_estimators': 10}\n",
      "-0.180 (+/-0.305) for {'max_features': 'auto', 'min_samples_leaf': 20, 'min_samples_split': 5, 'n_estimators': 100}\n",
      "-0.178 (+/-0.309) for {'max_features': 'auto', 'min_samples_leaf': 20, 'min_samples_split': 5, 'n_estimators': 1000}\n",
      "-0.141 (+/-0.250) for {'max_features': 'auto', 'min_samples_leaf': 20, 'min_samples_split': 10, 'n_estimators': 10}\n",
      "-0.180 (+/-0.305) for {'max_features': 'auto', 'min_samples_leaf': 20, 'min_samples_split': 10, 'n_estimators': 100}\n",
      "-0.178 (+/-0.309) for {'max_features': 'auto', 'min_samples_leaf': 20, 'min_samples_split': 10, 'n_estimators': 1000}\n",
      "-0.141 (+/-0.250) for {'max_features': 'auto', 'min_samples_leaf': 20, 'min_samples_split': 20, 'n_estimators': 10}\n",
      "-0.180 (+/-0.305) for {'max_features': 'auto', 'min_samples_leaf': 20, 'min_samples_split': 20, 'n_estimators': 100}\n",
      "-0.178 (+/-0.309) for {'max_features': 'auto', 'min_samples_leaf': 20, 'min_samples_split': 20, 'n_estimators': 1000}\n",
      "-0.141 (+/-0.250) for {'max_features': 'auto', 'min_samples_leaf': 50, 'min_samples_split': 2, 'n_estimators': 10}\n",
      "-0.180 (+/-0.305) for {'max_features': 'auto', 'min_samples_leaf': 50, 'min_samples_split': 2, 'n_estimators': 100}\n",
      "-0.178 (+/-0.309) for {'max_features': 'auto', 'min_samples_leaf': 50, 'min_samples_split': 2, 'n_estimators': 1000}\n",
      "-0.141 (+/-0.250) for {'max_features': 'auto', 'min_samples_leaf': 50, 'min_samples_split': 5, 'n_estimators': 10}\n",
      "-0.180 (+/-0.305) for {'max_features': 'auto', 'min_samples_leaf': 50, 'min_samples_split': 5, 'n_estimators': 100}\n",
      "-0.178 (+/-0.309) for {'max_features': 'auto', 'min_samples_leaf': 50, 'min_samples_split': 5, 'n_estimators': 1000}\n",
      "-0.141 (+/-0.250) for {'max_features': 'auto', 'min_samples_leaf': 50, 'min_samples_split': 10, 'n_estimators': 10}\n",
      "-0.180 (+/-0.305) for {'max_features': 'auto', 'min_samples_leaf': 50, 'min_samples_split': 10, 'n_estimators': 100}\n",
      "-0.178 (+/-0.309) for {'max_features': 'auto', 'min_samples_leaf': 50, 'min_samples_split': 10, 'n_estimators': 1000}\n",
      "-0.141 (+/-0.250) for {'max_features': 'auto', 'min_samples_leaf': 50, 'min_samples_split': 20, 'n_estimators': 10}\n",
      "-0.180 (+/-0.305) for {'max_features': 'auto', 'min_samples_leaf': 50, 'min_samples_split': 20, 'n_estimators': 100}\n",
      "-0.178 (+/-0.309) for {'max_features': 'auto', 'min_samples_leaf': 50, 'min_samples_split': 20, 'n_estimators': 1000}\n",
      "0.418 (+/-0.124) for {'max_features': 'sqrt', 'min_samples_leaf': 10, 'min_samples_split': 2, 'n_estimators': 10}\n",
      "0.365 (+/-0.123) for {'max_features': 'sqrt', 'min_samples_leaf': 10, 'min_samples_split': 2, 'n_estimators': 100}\n",
      "0.330 (+/-0.141) for {'max_features': 'sqrt', 'min_samples_leaf': 10, 'min_samples_split': 2, 'n_estimators': 1000}\n",
      "0.418 (+/-0.124) for {'max_features': 'sqrt', 'min_samples_leaf': 10, 'min_samples_split': 5, 'n_estimators': 10}\n",
      "0.365 (+/-0.123) for {'max_features': 'sqrt', 'min_samples_leaf': 10, 'min_samples_split': 5, 'n_estimators': 100}\n",
      "0.330 (+/-0.141) for {'max_features': 'sqrt', 'min_samples_leaf': 10, 'min_samples_split': 5, 'n_estimators': 1000}\n",
      "0.418 (+/-0.124) for {'max_features': 'sqrt', 'min_samples_leaf': 10, 'min_samples_split': 10, 'n_estimators': 10}\n",
      "0.365 (+/-0.123) for {'max_features': 'sqrt', 'min_samples_leaf': 10, 'min_samples_split': 10, 'n_estimators': 100}\n",
      "0.330 (+/-0.141) for {'max_features': 'sqrt', 'min_samples_leaf': 10, 'min_samples_split': 10, 'n_estimators': 1000}\n",
      "0.418 (+/-0.124) for {'max_features': 'sqrt', 'min_samples_leaf': 10, 'min_samples_split': 20, 'n_estimators': 10}\n",
      "0.365 (+/-0.123) for {'max_features': 'sqrt', 'min_samples_leaf': 10, 'min_samples_split': 20, 'n_estimators': 100}\n",
      "0.330 (+/-0.141) for {'max_features': 'sqrt', 'min_samples_leaf': 10, 'min_samples_split': 20, 'n_estimators': 1000}\n",
      "-0.141 (+/-0.250) for {'max_features': 'sqrt', 'min_samples_leaf': 20, 'min_samples_split': 2, 'n_estimators': 10}\n",
      "-0.180 (+/-0.305) for {'max_features': 'sqrt', 'min_samples_leaf': 20, 'min_samples_split': 2, 'n_estimators': 100}\n",
      "-0.178 (+/-0.309) for {'max_features': 'sqrt', 'min_samples_leaf': 20, 'min_samples_split': 2, 'n_estimators': 1000}\n",
      "-0.141 (+/-0.250) for {'max_features': 'sqrt', 'min_samples_leaf': 20, 'min_samples_split': 5, 'n_estimators': 10}\n",
      "-0.180 (+/-0.305) for {'max_features': 'sqrt', 'min_samples_leaf': 20, 'min_samples_split': 5, 'n_estimators': 100}\n",
      "-0.178 (+/-0.309) for {'max_features': 'sqrt', 'min_samples_leaf': 20, 'min_samples_split': 5, 'n_estimators': 1000}\n",
      "-0.141 (+/-0.250) for {'max_features': 'sqrt', 'min_samples_leaf': 20, 'min_samples_split': 10, 'n_estimators': 10}\n",
      "-0.180 (+/-0.305) for {'max_features': 'sqrt', 'min_samples_leaf': 20, 'min_samples_split': 10, 'n_estimators': 100}\n",
      "-0.178 (+/-0.309) for {'max_features': 'sqrt', 'min_samples_leaf': 20, 'min_samples_split': 10, 'n_estimators': 1000}\n",
      "-0.141 (+/-0.250) for {'max_features': 'sqrt', 'min_samples_leaf': 20, 'min_samples_split': 20, 'n_estimators': 10}\n",
      "-0.180 (+/-0.305) for {'max_features': 'sqrt', 'min_samples_leaf': 20, 'min_samples_split': 20, 'n_estimators': 100}\n",
      "-0.178 (+/-0.309) for {'max_features': 'sqrt', 'min_samples_leaf': 20, 'min_samples_split': 20, 'n_estimators': 1000}\n",
      "-0.141 (+/-0.250) for {'max_features': 'sqrt', 'min_samples_leaf': 50, 'min_samples_split': 2, 'n_estimators': 10}\n",
      "-0.180 (+/-0.305) for {'max_features': 'sqrt', 'min_samples_leaf': 50, 'min_samples_split': 2, 'n_estimators': 100}\n",
      "-0.178 (+/-0.309) for {'max_features': 'sqrt', 'min_samples_leaf': 50, 'min_samples_split': 2, 'n_estimators': 1000}\n",
      "-0.141 (+/-0.250) for {'max_features': 'sqrt', 'min_samples_leaf': 50, 'min_samples_split': 5, 'n_estimators': 10}\n",
      "-0.180 (+/-0.305) for {'max_features': 'sqrt', 'min_samples_leaf': 50, 'min_samples_split': 5, 'n_estimators': 100}\n",
      "-0.178 (+/-0.309) for {'max_features': 'sqrt', 'min_samples_leaf': 50, 'min_samples_split': 5, 'n_estimators': 1000}\n",
      "-0.141 (+/-0.250) for {'max_features': 'sqrt', 'min_samples_leaf': 50, 'min_samples_split': 10, 'n_estimators': 10}\n",
      "-0.180 (+/-0.305) for {'max_features': 'sqrt', 'min_samples_leaf': 50, 'min_samples_split': 10, 'n_estimators': 100}\n",
      "-0.178 (+/-0.309) for {'max_features': 'sqrt', 'min_samples_leaf': 50, 'min_samples_split': 10, 'n_estimators': 1000}\n",
      "-0.141 (+/-0.250) for {'max_features': 'sqrt', 'min_samples_leaf': 50, 'min_samples_split': 20, 'n_estimators': 10}\n",
      "-0.180 (+/-0.305) for {'max_features': 'sqrt', 'min_samples_leaf': 50, 'min_samples_split': 20, 'n_estimators': 100}\n",
      "-0.178 (+/-0.309) for {'max_features': 'sqrt', 'min_samples_leaf': 50, 'min_samples_split': 20, 'n_estimators': 1000}\n",
      "\n"
     ]
    }
   ],
   "source": [
    "# Random forest regression - with hyperparameter tuning\n",
    "# Set the parameters by cross-validation\n",
    "\n",
    "tuned_parameters = [{'n_estimators': [10,100,1000], \n",
    "                     'min_samples_split': [2, 5, 10, 20], \n",
    "                    'min_samples_leaf': [10,20,50],\n",
    "                    'max_features': ['auto','sqrt']}]\n",
    "\n",
    "\n",
    "est_base = RandomForestRegressor(random_state=0,  n_jobs=-1)\n",
    "\n",
    "est = GridSearchCV(est_base, tuned_parameters, cv=kf, scoring=cv_scoring, n_jobs=-1)\n",
    "\n",
    "est.fit(x_train, y_train)\n",
    "\n",
    "means = est.cv_results_['mean_test_score']\n",
    "stds = est.cv_results_['std_test_score']\n",
    "\n",
    "for mean, std, params in zip(means, stds, est.cv_results_['params']):\n",
    "    print(\"%0.3f (+/-%0.03f) for %r\"\n",
    "          % (mean, std * 2, params))\n",
    "print()"
   ]
  },
  {
   "cell_type": "code",
   "execution_count": null,
   "metadata": {},
   "outputs": [],
   "source": []
  },
  {
   "cell_type": "code",
   "execution_count": null,
   "metadata": {},
   "outputs": [],
   "source": []
  }
 ],
 "metadata": {
  "kernelspec": {
   "display_name": "Python 3",
   "language": "python",
   "name": "python3"
  },
  "language_info": {
   "codemirror_mode": {
    "name": "ipython",
    "version": 3
   },
   "file_extension": ".py",
   "mimetype": "text/x-python",
   "name": "python",
   "nbconvert_exporter": "python",
   "pygments_lexer": "ipython3",
   "version": "3.7.1"
  }
 },
 "nbformat": 4,
 "nbformat_minor": 2
}
